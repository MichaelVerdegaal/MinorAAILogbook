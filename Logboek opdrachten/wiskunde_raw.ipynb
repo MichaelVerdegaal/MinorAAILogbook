## Lineare algebra

1. Tel de vectoren a en b bij elkaar op,
a = $$\begin{pmatrix}5\\3\end{pmatrix}$ b= $\begin{pmatrix}2\\3\end{pmatrix}$$

a + b = $$\begin{pmatrix}7\\6\end{pmatrix}$$

2. Tel de vectoren a en b bij elkaar op,
$$\begin{pmatrix}2\\3\\4\end{pmatrix}$ b= $\begin{pmatrix}2\\1\\1\end{pmatrix}$$

a + b = $$\begin{pmatrix}4\\4\\5\end{pmatrix}$$

3. Trek de vectoren a en b van elkaar af,
a = $$\begin{pmatrix}8\\4\end{pmatrix}  b=\begin{pmatrix}1\\2\end{pmatrix}$$

a - b = $$\begin{pmatrix}7\\2\end{pmatrix}$$

4. Vermenigvuldig de vectoren a en b,
a = $$\begin{pmatrix}3\\3\end{pmatrix} b= \begin{pmatrix}2\\3\end{pmatrix}$$

a * b = $$\begin{pmatrix}6\\9\end{pmatrix}$$

5. Vermenigvuldig a en b,
a = 2 b= $$\begin{pmatrix}3\\4\end{pmatrix}$$

a * b = $$\begin{pmatrix}6\\8\end{pmatrix}$$

6. Bepaal het inproduct van de vectoren a en b,
a = $$\begin{pmatrix}2\\4\end{pmatrix}  b=\begin{pmatrix}5\\2\end{pmatrix}$$

a $$\cdot$$ b = 2 * 5 + 4 * 2

7. Tel de matricen A en B bij elkaar op,
A = $$\begin{pmatrix}2&2\\2&3\\1&1\end{pmatrix} B = \begin{pmatrix}2&2\\1&2\\1&3\end{pmatrix}$$

A + B = $$\begin{pmatrix}2&2\\2&3\\1&1\end{pmatrix}$$

8. Trek de matricen A en B van elkaar af,
A = $$\begin{pmatrix}5&2\\2&4\\4&4\end{pmatrix} B = \begin{pmatrix}2&2\\1&2\\3&3\end{pmatrix}$$

A + B = $$\begin{pmatrix}3&0\\1&2\\1&1\end{pmatrix}$$


9. Bepaal C = A $$\circ$$ B (Hadamarproduct) met,
A = $$\begin{pmatrix}1&3\\1&4\\2&2\end{pmatrix} B = $begin{pmatrix}2&1\\2&3\\4&2\end{pmatrix}$$

C = A $$\circ B = \begin{pmatrix}1*2&3*1\\1*2&4*3\\2*4&2*2\end{pmatrix} = \begin{pmatrix}2&3\\2&12\\8&4\end{pmatrix}$$

10. Bepaal C = A $$\cdot$$ B (Inproduct) met,
a = $$\begin{pmatrix}1&3\\1&6\\5&5\end{pmatrix} b=\begin{pmatrix}1&2\\4&3\end{pmatrix}$$

C = A $$\cdot$ B = \begin{pmatrix}1*1+3*4&1*2+3*3\\1*1+6*4&1*2+6*3\\5*1+5*4&5*2+5*3\end{pmatrix}
= \begin{pmatrix}13&11\\25&20\\25&25\end{pmatrix}$$

11. Bepaal C = A $$\cdot$$ B (Inproduct) met,
A = $$\begin{pmatrix}2&3\\1&4\\2&5\end{pmatrix}$ b = $\begin{pmatrix}3\end{pmatrix}$$

Niet mogelijk, want de kolommen van de eerste matrix, staan niet gelijk aan de rijen van de tweede matrix.

12. Bepaal C = A $$\cdot$$ B (Inproduct) met,
A = $$\begin{pmatrix}3&3\\3&5\\4&5\end{pmatrix} B = \begin{pmatrix}3&2\\6&3\end{pmatrix}$$

C = A $$\cdot$ b = \begin{pmatrix}3*3+3*6&3*2+3*3\\3*3+3*6&3*2+3*3\\4*3+5*6&4*2+4*3\end{pmatrix}
= $\begin{pmatrix}27&15\\27&15\\42&20\end{pmatrix}$$

13. Bepaal C = A $$\cdot$$ b met,
A = $$\begin{pmatrix}3&1\\1&4\\3&3\end{pmatrix}$$ b= 3

C = $$\begin{pmatrix}3*3&1*3\\1*3&4*3\\3*3&3*3\end{pmatrix}$ = $\begin{pmatrix}9&3\\3&12\\9&9\end{pmatrix}$$

14. Bepaal C = A $\cdot$ b met,
A = $\begin{pmatrix}3&4\\6&4\\3&5\end{pmatrix}$ b= 4

C = $$\begin{pmatrix}3*4&4*4\\6*4&4*4\\3*4&5*4\end{pmatrix}$ = $\begin{pmatrix}12&16\\24&16\\12&20\end{pmatrix}$$

15. Bepaal de inverse van de volgende matricen:


15.1.

A = $$\begin{pmatrix}1&2&0\\1&5&2\\3&2&6\end{pmatrix}$$


M = determinant voor elk element = $$\begin{pmatrix}26&0&-13\\12&6&-4\\4&2&3\end{pmatrix}$$

cf(M) = cofactors berekenen = $$\begin{pmatrix}26&0&-13\\12&6&-4\\4&2&3\end{pmatrix}$ $\rightarrow$
$\begin{pmatrix}+&-&+\\-&+&-\\+&-&+\end{pmatrix}$ $\rightarrow$
$\begin{pmatrix}26&0&-13\\-12&6&4\\4&-2&3\end{pmatrix}$$

adj(M) = matrix transposen = = $$\begin{pmatrix}26&-12&4\\0&6&-2\\-13&4&3\end{pmatrix}$$

|A| = $$(A$_1,_1$ * M$_1,_1$)-(A$_1,_2$ * M$_1,_2$)+(A$_1,_3$ * M$_1,_3$) = 26$$

A$${^{\text{-}1}}$ = $\frac{1}{|A|}$ adj(M) = $\frac{1}{26}$ $\begin{pmatrix}26&-12&4\\0&6&-2\\-13&4&3\end{pmatrix}$
= $\begin{pmatrix}1&-\frac{6}{13}&\frac{2}{13}
\\0&\frac{3}{13}&-\frac{1}{13}
\\-\frac{1}{2}&\frac{2}{13}&\frac{3}{26}\end{pmatrix}$$

15.2.

B = $$\begin{pmatrix}2&3&4\\1&2&2\\0&2&1\end{pmatrix}$$

B$${^{\text{-}1}}$ = $\begin{pmatrix}-2&5&-2\\-1&2&0\\2&-4&1\end{pmatrix}$$

15.3.

C = $$\begin{pmatrix}1&1&1\\1&4&2\\3&2&1\end{pmatrix}$$

C$${^{\text{-}1}}$ = $\begin{pmatrix}0&-\frac{1}{5}&\frac{2}{5}
\\-1&\frac{2}{5}&\frac{1}{5}
\\2&-\frac{1}{5}&-\frac{3}{5}\end{pmatrix}$$


## Differentieren en activatiefuncties
### 1) Differentieer de volgende functies

### 1. $$f(x) = 4x^3 - 3x^4 + x^\frac{1}{2} + 10x + 15$$

Via power rule

$$f\prime = -12x^3 + 12x^2$ + $\frac{1}{2}x^{-\frac{1}{2}} + 10$$

#### 2. $$f(x) = (−5x + 3x^2) (3 – x)$$

Remove brackets and simplify
(ab)(cd) = ac + ad + bc + bd

= $$f(x) = (−5x + 3x^2) (3 – x)$$

= $$(−5x + 3x^2) (3 – x)$$

= $$(-5x*3)+(-5x*-x)+(3x^2*3)+(3x^2*-x)$$

= $$-15x+5x^2+9x^2+-3x^3$$

= $$-3x^3+14x^2 - 15x$$

Via power rule

$$f\prime = -9x^2 + 28x - 15$$


### 3. $$f(x) = \frac{5x+2}{2+4x}$$

$$f = 5x + 2$$

$$g = 4x + 2$$

Via line rule and constant rule

$$f\prime = 5$$

$$g\prime = 4$$

Via quotient rule

$$\frac{d}{dx} \frac{f}{g} = \frac{gf\prime-fg\prime}{g^2}$$

$$\frac{d}{dx} f(x) = \frac{5(4x+2) - 4(5x_2)}{(2+4x)^2}$$

Simplify

$${5(4x+2) - 4(5x_2)}$$ = 2

$$\frac{d}{dx} f(x) = \frac{2}{(2+4x)^2}$$

Simplify

$$(2+4x)^2 = 4+16x+16x^2 = 4(2x+1)^2$$

$$\frac{d}{dx} f(x) = \frac{2}{4(2x+1)^2}$$


### 4. $$f(x) = (6x^2 + 7)^3$$

Via power rule and then chain rule

$$g = 6x^2 + 7$$

$$f = g^3$$

$$g\prime(x) = 12x$$

$$f\prime(g) = 3g^2$$


$$f(g(x)) = f\prime(g(x))*g\prime(x)$$

$$f\prime(x) = 3g^2*12x = 3(6x^2+7)^2*12x = 36x(6x^2+7)^2$$

### 5. $$f(x) = 4e^{-x}$$

Via chain rule

$$f(g) = 4e^{-x}$$

$$g(x) = -x$$

$$f\prime(g) = 4e^{-x}$$

$$g\prime(x) = -1$$

$$f(g(x)) = f\prime(g(x))*g\prime(x)$$

$$f\prime(x) = 4e^{-x} * -1 = -4e^{-x}$$

### 2) Differentieer een aantal activatiefuncties

### Linear

$$\phi(z) = z$$

$$\frac{d}{dx} \phi(z) = 1$$

### Sigmoid

$$\phi(z) = \frac{1}{1+e^{-z}}$$

$$f(g) = 1$$

$$g(z) = 1+e^{-x}$$

$$f\prime(g) = 0$$

$$g\prime(x) = -e^{-x}$$

$$f(g(z)) = f\prime(g(z))*g\prime(z)$$

$$\frac{d}{dx} \phi(z) = \frac{(0*1+1+e^{-x})-(1*-e^{-x})}{(1+e^{-x})^2}
\frac{e^{-x}}{(1+e^{-x})^2}$$

### ReLU

$$\phi(z) = max(0, z) = \begin{cases}0 & z <= 0\\z & z > 0\end{cases}$$

Via constant and line rule

$$\frac{d}{dx} \phi(z) = \begin{cases}0 & z <= 0\\1 & z > 0\end{cases}$$

## Gradient descent

1. Z(x,y) = $$x^4+x^3y^2+y^5+9$$

$$\frac{\partial z}{\partial x}$$ = $$4x^3+3x^2y^2$$

$$\frac{\partial z}{\partial y}$$ = $$2x^3y+5y^4$$

2. Z(x,y) = $$x^3+x^2y^4-2y^5$$

$$\frac{\partial z}{\partial x}$$ = $$3x^2+2xy^4$$

$$\frac{\partial z}{\partial y}$$ = $$4x^2y^3-10y^4$$

3. Z(x,y) = $$-3x^3y^2+5$$

$$\frac{\partial z}{\partial x}$$ = $$-9x^2y^2$$

$$\frac{\partial z}{\partial y}$$ = $$-6x^3y$$


## Kosten functies
