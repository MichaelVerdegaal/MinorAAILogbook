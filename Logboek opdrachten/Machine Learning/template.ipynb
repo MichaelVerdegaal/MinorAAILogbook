{
 "cells": [
  {
   "cell_type": "markdown",
   "metadata": {
    "collapsed": true,
    "pycharm": {
     "name": "#%% md\n"
    }
   },
   "source": [
    "# Experiment x"
   ]
  },
  {
   "cell_type": "markdown",
   "source": [
    "## Dataset\n",
    "todo"
   ],
   "metadata": {
    "collapsed": false
   }
  },
  {
   "cell_type": "code",
   "source": [
    "imports\n",
    "\n",
    "download dataset"
   ],
   "metadata": {
    "collapsed": false,
    "pycharm": {
     "name": "#%%\n"
    }
   },
   "execution_count": null,
   "outputs": []
  },
  {
   "cell_type": "markdown",
   "source": [
    "## Analyse probleem\n",
    "#### Wat is het probleem?\n",
    "todo\n",
    "#### Dimensies dataset?\n",
    "todo\n",
    "#### Soorten data/features?\n",
    "todo"
   ],
   "metadata": {
    "collapsed": false
   }
  },
  {
   "cell_type": "markdown",
   "source": [
    "## Methoden\n",
    "#### Welke preprocessing is nodig?\n",
    "todo\n",
    "#### Welke modellen ga je vergelijken?\n",
    "todo\n",
    "#### Welke performance metric is passend?\n",
    "todo"
   ],
   "metadata": {
    "collapsed": false
   }
  },
  {
   "cell_type": "markdown",
   "source": [
    "## Voorspelling\n",
    "#### Welke classifier zal het beste zijn en waarom?\n",
    "todo\n",
    "#### Welke hyperparameters zijn relevant en waarom?\n",
    "todo"
   ],
   "metadata": {
    "collapsed": false
   }
  },
  {
   "cell_type": "markdown",
   "source": [
    "## Process"
   ],
   "metadata": {
    "collapsed": false,
    "pycharm": {
     "name": "#%% md\n"
    }
   }
  },
  {
   "cell_type": "code",
   "execution_count": null,
   "outputs": [],
   "source": [
    "todo = \"todo\""
   ],
   "metadata": {
    "collapsed": false,
    "pycharm": {
     "name": "#%%\n"
    }
   }
  },
  {
   "cell_type": "markdown",
   "source": [
    "## Resultaten\n",
    "todo"
   ],
   "metadata": {
    "collapsed": false
   }
  },
  {
   "cell_type": "markdown",
   "source": [
    "## Conclusie\n",
    "#### Welke classifier had het beste resultaat?\n",
    "todo\n",
    "#### Kwam dit overeen met de voorspelling? Waarom wel/niet?\n",
    "todo"
   ],
   "metadata": {
    "collapsed": false
   }
  }
 ],
 "metadata": {
  "kernelspec": {
   "display_name": "Python 3",
   "language": "python",
   "name": "python3"
  },
  "language_info": {
   "codemirror_mode": {
    "name": "ipython",
    "version": 2
   },
   "file_extension": ".py",
   "mimetype": "text/x-python",
   "name": "python",
   "nbconvert_exporter": "python",
   "pygments_lexer": "ipython2",
   "version": "2.7.6"
  }
 },
 "nbformat": 4,
 "nbformat_minor": 0
}