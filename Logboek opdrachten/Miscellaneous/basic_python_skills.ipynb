{
 "cells": [
  {
   "cell_type": "markdown",
   "metadata": {
    "collapsed": true,
    "pycharm": {
     "name": "#%% md\n"
    }
   },
   "source": [
    "# Basic Python skills\n",
    "\n",
    "Dit document is om begrip van Python functionaliteiten te illustreren in geval die niet in andere logboekopdrachten\n",
    "voorkomt."
   ]
  },
  {
   "cell_type": "markdown",
   "source": [
    "### Slicing\n",
    "\n",
    "Slicing is een functionaliteit die je toestaat om alleen bepaalde delen uit een collectie te halen (eruit slicen). De\n",
    "notatie van slicen is als volgt: `collectie[start positie(inclusief):stop positie(exclusief):stapgrootte]`"
   ],
   "metadata": {
    "collapsed": false,
    "pycharm": {
     "name": "#%% md\n"
    }
   }
  },
  {
   "cell_type": "code",
   "execution_count": 198,
   "outputs": [],
   "source": [
    "sample = [1,2,3,4,5,6,7,8,9,10]"
   ],
   "metadata": {
    "collapsed": false,
    "pycharm": {
     "name": "#%%\n"
    }
   }
  },
  {
   "cell_type": "code",
   "execution_count": 199,
   "outputs": [
    {
     "name": "stdout",
     "output_type": "stream",
     "text": [
      "[1, 2, 3, 4, 5]\n",
      "[1, 2, 3, 4, 5]\n"
     ]
    }
   ],
   "source": [
    "# Print 1 to 5\n",
    "print(sample[0:5])\n",
    "print(sample[:5])"
   ],
   "metadata": {
    "collapsed": false,
    "pycharm": {
     "name": "#%%\n"
    }
   }
  },
  {
   "cell_type": "code",
   "execution_count": 200,
   "outputs": [
    {
     "name": "stdout",
     "output_type": "stream",
     "text": [
      "[6, 7, 8, 9, 10]\n",
      "[6, 7, 8, 9, 10]\n"
     ]
    }
   ],
   "source": [
    "# Print 5 to the end\n",
    "print(sample[5:10])\n",
    "print(sample[5:])"
   ],
   "metadata": {
    "collapsed": false,
    "pycharm": {
     "name": "#%%\n"
    }
   }
  },
  {
   "cell_type": "code",
   "execution_count": 201,
   "outputs": [
    {
     "name": "stdout",
     "output_type": "stream",
     "text": [
      "[1, 3, 5, 7, 9]\n"
     ]
    }
   ],
   "source": [
    "# Print every two numbers\n",
    "print(sample[::2])"
   ],
   "metadata": {
    "collapsed": false,
    "pycharm": {
     "name": "#%%\n"
    }
   }
  },
  {
   "cell_type": "code",
   "execution_count": 202,
   "outputs": [
    {
     "name": "stdout",
     "output_type": "stream",
     "text": [
      "[1, 2, 3]\n"
     ]
    }
   ],
   "source": [
    "# Print first 3\n",
    "print(sample[:-7])"
   ],
   "metadata": {
    "collapsed": false,
    "pycharm": {
     "name": "#%%\n"
    }
   }
  },
  {
   "cell_type": "code",
   "execution_count": 203,
   "outputs": [
    {
     "name": "stdout",
     "output_type": "stream",
     "text": [
      "[7, 8, 9, 10]\n"
     ]
    }
   ],
   "source": [
    "# Print last 4\n",
    "print(sample[-4:])"
   ],
   "metadata": {
    "collapsed": false,
    "pycharm": {
     "name": "#%%\n"
    }
   }
  },
  {
   "cell_type": "markdown",
   "source": [
    "### Dictionaries\n",
    "\n",
    "Dictionaries zijn een type collectie met die `key:value` paren bevatten, aangeduid met curly brackets {}"
   ],
   "metadata": {
    "collapsed": false
   }
  },
  {
   "cell_type": "code",
   "execution_count": 204,
   "outputs": [],
   "source": [
    "dic = {'a': 5,\n",
    "       'b': 10,\n",
    "       'c': 15}"
   ],
   "metadata": {
    "collapsed": false,
    "pycharm": {
     "name": "#%%\n"
    }
   }
  },
  {
   "cell_type": "code",
   "execution_count": 205,
   "outputs": [
    {
     "name": "stdout",
     "output_type": "stream",
     "text": [
      "5\n",
      "5\n"
     ]
    }
   ],
   "source": [
    "# Print value van eerste key\n",
    "print(dic['a'])\n",
    "print(dic.get('a'))"
   ],
   "metadata": {
    "collapsed": false,
    "pycharm": {
     "name": "#%%\n"
    }
   }
  },
  {
   "cell_type": "code",
   "execution_count": 206,
   "outputs": [
    {
     "name": "stdout",
     "output_type": "stream",
     "text": [
      "20\n",
      "Key doesn't exist\n"
     ]
    }
   ],
   "source": [
    "# Voeg toe en verwijder een key\n",
    "dic['d'] = 20\n",
    "print(dic['d'])\n",
    "dic.pop('d')\n",
    "try:\n",
    "    print(dic['d'])\n",
    "except:\n",
    "    print(\"Key doesn't exist\")"
   ],
   "metadata": {
    "collapsed": false,
    "pycharm": {
     "name": "#%%\n"
    }
   }
  },
  {
   "cell_type": "code",
   "execution_count": 207,
   "outputs": [
    {
     "name": "stdout",
     "output_type": "stream",
     "text": [
      "30\n"
     ]
    }
   ],
   "source": [
    "# Defaults, een manier om key-exceptions te vermijden\n",
    "print(dic.get('d', 30))"
   ],
   "metadata": {
    "collapsed": false,
    "pycharm": {
     "name": "#%%\n"
    }
   }
  },
  {
   "cell_type": "markdown",
   "source": [
    "### Comprehensions\n",
    "\n",
    "Comprehensions is wat ze syntactic-sugar noemen, of in andere woorden, het is een manier om minder te hoeven te typen.\n",
    "In dit geval gaat het om het maken van collecties versoepelen, zodat je niet overal expliciet for loops hoeft te typen."
   ],
   "metadata": {
    "collapsed": false
   }
  },
  {
   "cell_type": "code",
   "execution_count": 208,
   "outputs": [
    {
     "name": "stdout",
     "output_type": "stream",
     "text": [
      "[0, 1, 2, 3, 4]\n",
      "[0, 1, 2, 3, 4]\n",
      "True\n"
     ]
    }
   ],
   "source": [
    "# List comprehension (en standaard manier)\n",
    "a = []\n",
    "for i in range(5):\n",
    "    a.append(i)\n",
    "\n",
    "b = [i for i in range(5)]\n",
    "\n",
    "print(a)\n",
    "print(b)\n",
    "print(a == b)"
   ],
   "metadata": {
    "collapsed": false,
    "pycharm": {
     "name": "#%%\n"
    }
   }
  },
  {
   "cell_type": "code",
   "execution_count": 209,
   "outputs": [
    {
     "name": "stdout",
     "output_type": "stream",
     "text": [
      "{'a': 0, 'b': 1, 'c': 2, 'd': 3}\n"
     ]
    }
   ],
   "source": [
    "# Dictionary comprehension\n",
    "dic = {x:y for x, y in zip(['a', 'b', 'c', 'd'], range(4))}\n",
    "print(dic)"
   ],
   "metadata": {
    "collapsed": false,
    "pycharm": {
     "name": "#%%\n"
    }
   }
  },
  {
   "cell_type": "code",
   "execution_count": 210,
   "outputs": [
    {
     "name": "stdout",
     "output_type": "stream",
     "text": [
      "('h', 'e', 'y', 'o')\n",
      "('h', 'e', 'y', 'o')\n"
     ]
    }
   ],
   "source": [
    "# Tuple comprehension\n",
    "tup = tuple(x for x in ['h', 'e', 'y', 'o'])\n",
    "# Of alternatief\n",
    "tup_2 = *(x for x in ['h', 'e', 'y', 'o']),\n",
    "\n",
    "print(tup)\n",
    "print(tup_2)"
   ],
   "metadata": {
    "collapsed": false,
    "pycharm": {
     "name": "#%%\n"
    }
   }
  }
 ],
 "metadata": {
  "kernelspec": {
   "display_name": "Python 3",
   "language": "python",
   "name": "python3"
  },
  "language_info": {
   "codemirror_mode": {
    "name": "ipython",
    "version": 2
   },
   "file_extension": ".py",
   "mimetype": "text/x-python",
   "name": "python",
   "nbconvert_exporter": "python",
   "pygments_lexer": "ipython2",
   "version": "2.7.6"
  }
 },
 "nbformat": 4,
 "nbformat_minor": 0
}