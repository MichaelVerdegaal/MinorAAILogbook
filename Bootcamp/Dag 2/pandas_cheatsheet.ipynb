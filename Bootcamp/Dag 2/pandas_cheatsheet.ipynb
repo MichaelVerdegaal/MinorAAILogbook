{
 "cells": [
  {
   "cell_type": "markdown",
   "metadata": {
    "collapsed": true,
    "pycharm": {
     "name": "#%% md\n"
    }
   },
   "source": [
    "### Pandas cheatsheet"
   ]
  },
  {
   "cell_type": "markdown",
   "source": [
    "1. head()"
   ],
   "metadata": {
    "collapsed": false,
    "pycharm": {
     "name": "#%% md\n"
    }
   }
  },
  {
   "cell_type": "code",
   "execution_count": 63,
   "outputs": [
    {
     "name": "stdout",
     "output_type": "stream",
     "text": [
      "   a  b    c\n",
      "0  4  4  5.0\n",
      "1  3  5  6.0\n"
     ]
    }
   ],
   "source": [
    "import pandas as pd\n",
    "data = {'a': [4,3,2,1], 'b': [4,5,6,7], 'c': [5,6,None,8]}\n",
    "df = pd.DataFrame(data, index=[0,1,2,3], columns=[str(i) for i in data.keys()])\n",
    "print(df.head(2))"
   ],
   "metadata": {
    "collapsed": false,
    "pycharm": {
     "name": "#%%\n"
    }
   }
  },
  {
   "cell_type": "markdown",
   "source": [
    "2. describe()"
   ],
   "metadata": {
    "collapsed": false
   }
  },
  {
   "cell_type": "code",
   "execution_count": 64,
   "outputs": [
    {
     "name": "stdout",
     "output_type": "stream",
     "text": [
      "              a         b         c\n",
      "count  4.000000  4.000000  3.000000\n",
      "mean   2.500000  5.500000  6.333333\n",
      "std    1.290994  1.290994  1.527525\n",
      "min    1.000000  4.000000  5.000000\n",
      "25%    1.750000  4.750000  5.500000\n",
      "50%    2.500000  5.500000  6.000000\n",
      "75%    3.250000  6.250000  7.000000\n",
      "max    4.000000  7.000000  8.000000\n"
     ]
    }
   ],
   "source": [
    "print(df.describe())"
   ],
   "metadata": {
    "collapsed": false,
    "pycharm": {
     "name": "#%%\n"
    }
   }
  },
  {
   "cell_type": "markdown",
   "source": [
    "3. dropna()"
   ],
   "metadata": {
    "collapsed": false
   }
  },
  {
   "cell_type": "code",
   "execution_count": 65,
   "outputs": [
    {
     "name": "stdout",
     "output_type": "stream",
     "text": [
      "   a  b    c\n",
      "0  4  4  5.0\n",
      "1  3  5  6.0\n",
      "2  2  6  NaN\n",
      "3  1  7  8.0\n",
      "   a  b    c\n",
      "0  4  4  5.0\n",
      "1  3  5  6.0\n",
      "3  1  7  8.0\n"
     ]
    }
   ],
   "source": [
    "print(df)\n",
    "df = df.dropna()\n",
    "print(df)"
   ],
   "metadata": {
    "collapsed": false,
    "pycharm": {
     "name": "#%%\n"
    }
   }
  },
  {
   "cell_type": "markdown",
   "source": [
    "4. subsetting"
   ],
   "metadata": {
    "collapsed": false
   }
  },
  {
   "cell_type": "code",
   "execution_count": 66,
   "outputs": [
    {
     "name": "stdout",
     "output_type": "stream",
     "text": [
      "   a  b    c\n",
      "1  3  5  6.0\n",
      "3  1  7  8.0\n"
     ]
    }
   ],
   "source": [
    "s = df[df['b'] >= 5]\n",
    "print(s)"
   ],
   "metadata": {
    "collapsed": false,
    "pycharm": {
     "name": "#%%\n"
    }
   }
  },
  {
   "cell_type": "markdown",
   "source": [
    "5. sort_values()"
   ],
   "metadata": {
    "collapsed": false
   }
  },
  {
   "cell_type": "code",
   "execution_count": 67,
   "outputs": [
    {
     "name": "stdout",
     "output_type": "stream",
     "text": [
      "   a  b    c\n",
      "3  1  7  8.0\n",
      "1  3  5  6.0\n",
      "0  4  4  5.0\n"
     ]
    }
   ],
   "source": [
    "df = df.sort_values('b', ascending=False)\n",
    "print(df)"
   ],
   "metadata": {
    "collapsed": false,
    "pycharm": {
     "name": "#%%\n"
    }
   }
  }
 ],
 "metadata": {
  "kernelspec": {
   "display_name": "Python 3",
   "language": "python",
   "name": "python3"
  },
  "language_info": {
   "codemirror_mode": {
    "name": "ipython",
    "version": 2
   },
   "file_extension": ".py",
   "mimetype": "text/x-python",
   "name": "python",
   "nbconvert_exporter": "python",
   "pygments_lexer": "ipython2",
   "version": "2.7.6"
  }
 },
 "nbformat": 4,
 "nbformat_minor": 0
}