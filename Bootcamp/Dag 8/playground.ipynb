{
 "cells": [
  {
   "cell_type": "markdown",
   "metadata": {
    "collapsed": true,
    "pycharm": {
     "name": "#%% md\n"
    }
   },
   "source": [
    "Opgave 1 Bouw op de Tensorflow playground een neuraal net. Wat is het minimale aantal neuronen dat je nodig hebt voor de circle dataset.  Test verschillende activatiefuncties, regularization."
   ]
  },
  {
   "cell_type": "markdown",
   "source": [
    "Het minimale aantal neuronen dat je nodig heb is 3, anders lukt het niet om een cirkel te maken."
   ],
   "metadata": {
    "collapsed": false
   }
  },
  {
   "cell_type": "markdown",
   "source": [
    "Opgave 1b: Experimenteer met de spiral dataset. Kies je inputs je lagen zorgvuldig met hoeveel neuronen scoor je 100 %?\n",
    "\n",
    "Beantwoordt voor jezelf de volgende vragen:\n",
    "\n",
    "1; Welke activatiefuncties zijn er en wat is hun doel?"
   ],
   "metadata": {
    "collapsed": false,
    "pycharm": {
     "name": "#%% md\n"
    }
   }
  },
  {
   "cell_type": "markdown",
   "source": [
    "Activatiefuncties definieren de output van een neuron, op basis van de input.\n",
    "\n",
    "Ook lijkt het erop dat niet alle activatiefuncties alles even goed een vorm kunnen fitten. Dit zou dan liggen aan de\n",
    "output van deze functies."
   ],
   "metadata": {
    "collapsed": false
   }
  },
  {
   "cell_type": "markdown",
   "source": [
    "2; Wat is de learning rate?\n"
   ],
   "metadata": {
    "collapsed": false,
    "pycharm": {
     "name": "#%% md\n"
    }
   }
  },
  {
   "cell_type": "markdown",
   "source": [
    "De learning rate bepaalt de stapgrootte die wordt genomen terwijl je naar de mimimum van de loss functie toe gaat.\n",
    "\n",
    "Als deze te laag is dan kan het zijn dat ons model niet echt iets meer doet, maar als hij te hoog is dan kan het zijn\n",
    "dat de stappen te groot worden."
   ],
   "metadata": {
    "collapsed": false
   }
  },
  {
   "cell_type": "markdown",
   "source": [
    "3; Wat doet regularization?\n"
   ],
   "metadata": {
    "collapsed": false
   }
  },
  {
   "cell_type": "markdown",
   "source": [
    "Regularization is a technique which introduces a penalty on the loss function, aiming to reduce the rate of overfitting.\n",
    "\n",
    "Dit lijkt een tegenstrijdig effect te hebben op ons model, aangezien de spiraal best complex is."
   ],
   "metadata": {
    "collapsed": false
   }
  },
  {
   "cell_type": "markdown",
   "source": [
    "4; Heeft het bewerken van de input zin?\n"
   ],
   "metadata": {
    "collapsed": false
   }
  },
  {
   "cell_type": "markdown",
   "source": [
    "Dit heeft zeker wel een effect. Met een bepaalde invoer maakt hij niet de goede stappen om richting een lagere\n",
    "loss te werken."
   ],
   "metadata": {
    "collapsed": false
   }
  },
  {
   "cell_type": "markdown",
   "source": [
    "5; Wat is het verschil tussen classificatie en regressie?"
   ],
   "metadata": {
    "collapsed": false
   }
  },
  {
   "cell_type": "markdown",
   "source": [
    "Bij classificatie probeer je een output te verspellen binnen categorieen. Bij regressie probeer je een kwantificeerbare\n",
    "waarde te voorspellen.\n"
   ],
   "metadata": {
    "collapsed": false
   }
  }
 ],
 "metadata": {
  "kernelspec": {
   "display_name": "Python 3",
   "language": "python",
   "name": "python3"
  },
  "language_info": {
   "codemirror_mode": {
    "name": "ipython",
    "version": 2
   },
   "file_extension": ".py",
   "mimetype": "text/x-python",
   "name": "python",
   "nbconvert_exporter": "python",
   "pygments_lexer": "ipython2",
   "version": "2.7.6"
  }
 },
 "nbformat": 4,
 "nbformat_minor": 0
}