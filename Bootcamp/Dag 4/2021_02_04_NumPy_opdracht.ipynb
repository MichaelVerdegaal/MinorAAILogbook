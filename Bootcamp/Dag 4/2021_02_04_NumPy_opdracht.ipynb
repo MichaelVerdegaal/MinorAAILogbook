{
 "nbformat": 4,
 "nbformat_minor": 0,
 "metadata": {
  "colab": {
   "name": "2021_02_04_NumPy_opdracht.ipynb",
   "provenance": [],
   "collapsed_sections": []
  },
  "kernelspec": {
   "name": "python3",
   "language": "python",
   "display_name": "Python 3"
  },
  "accelerator": "GPU"
 },
 "cells": [
  {
   "cell_type": "markdown",
   "metadata": {
    "id": "Nn4Qzgx-2m9Y"
   },
   "source": [
    "# Python versus Numpy\n",
    "\n",
    "### Stijn Oomes\n",
    "donderdag 4 februari 2021\n",
    "\n",
    "---\n",
    " \n",
    "**Python Data Science Handbook**\n",
    "\n",
    "Chapter 2. Introduction to NumPy\n",
    "\n",
    "https://learning.oreilly.com/library/view/python-data-science/9781491912126/ch02.html#introduction-to-numpy"
   ]
  },
  {
   "cell_type": "markdown",
   "metadata": {
    "id": "QFTVWQPu1fAf"
   },
   "source": [
    "## Importeer libraries"
   ]
  },
  {
   "cell_type": "markdown",
   "metadata": {
    "id": "AuuPF_Q43f90"
   },
   "source": [
    "Controleer welke version van Python in dit notebook wordt gerund.\n",
    "\n",
    "Hint: met ! kun je commandline commando's draaien."
   ]
  },
  {
   "cell_type": "code",
   "metadata": {
    "id": "34e1blkU1jVf",
    "colab": {
     "base_uri": "https://localhost:8080/",
     "height": 34
    },
    "outputId": "6cdd5399-916e-43e5-ef67-6b2790933f4b"
   },
   "source": [
    "!python3 --version"
   ],
   "execution_count": 46,
   "outputs": [
    {
     "name": "stderr",
     "output_type": "stream",
     "text": [
      "Python is niet gevonden. Voer zonder argumenten uit om te installeren vanuit de Microsoft Store of schakel deze snelkoppeling uit via Instellingen > Aliassen voor app-uitvoering beheren.\n"
     ]
    }
   ]
  },
  {
   "cell_type": "markdown",
   "metadata": {
    "id": "pIhpnHi_4Laf"
   },
   "source": [
    "Importeer Numpy en OpenCV en controleer welke versie worden gerund.\n"
   ]
  },
  {
   "cell_type": "code",
   "metadata": {
    "id": "6E1LpQe11u24",
    "colab": {
     "base_uri": "https://localhost:8080/",
     "height": 35
    },
    "outputId": "ddf6abff-0aed-4e2a-f3d8-6c8051dce3b7"
   },
   "source": [
    "import numpy as np\n",
    "np.__version__\n",
    "import cv2 as cv\n",
    "cv.__version__"
   ],
   "execution_count": 47,
   "outputs": [
    {
     "data": {
      "text/plain": "'4.5.1'"
     },
     "execution_count": 47,
     "metadata": {},
     "output_type": "execute_result"
    }
   ]
  },
  {
   "cell_type": "code",
   "metadata": {
    "id": "cDXGHao61zWn"
   },
   "source": [],
   "execution_count": 47,
   "outputs": []
  },
  {
   "cell_type": "markdown",
   "metadata": {
    "id": "TyJ5LW-S64zm"
   },
   "source": [
    "Ik check ook meteen even de versies van Scikit-Learn, TensorFlow, en Keras. Deze libraries gaan we volgende week gebruiken."
   ]
  },
  {
   "cell_type": "code",
   "metadata": {
    "id": "687_2sjo7Ey-",
    "colab": {
     "base_uri": "https://localhost:8080/",
     "height": 35
    },
    "outputId": "09cc4a2f-3edd-4319-d692-3c5ce6cd0bba"
   },
   "source": [
    "import sklearn as sk\n",
    "sk.__version__"
   ],
   "execution_count": 48,
   "outputs": [
    {
     "data": {
      "text/plain": "'0.24.1'"
     },
     "execution_count": 48,
     "metadata": {},
     "output_type": "execute_result"
    }
   ]
  },
  {
   "cell_type": "code",
   "metadata": {
    "id": "tFBiuEiO12jj"
   },
   "source": [],
   "execution_count": 48,
   "outputs": []
  },
  {
   "cell_type": "code",
   "metadata": {
    "id": "xlfjAAVJ15Ce"
   },
   "source": [],
   "execution_count": 48,
   "outputs": []
  },
  {
   "cell_type": "markdown",
   "metadata": {
    "id": "vxmGsI5J1qqn"
   },
   "source": [
    "## Definieer een parameter"
   ]
  },
  {
   "cell_type": "markdown",
   "metadata": {
    "id": "W10S21jl8NBl"
   },
   "source": [
    "Definieer een parameter n en geef het voorlopig even een relatief kleine waarde, bijvoorbeeld 4.\n",
    "\n",
    "We beginnen de test met een datastructuur met weinig elementen. Daarna mag je die waarde zo groot maken als je computer aan kan."
   ]
  },
  {
   "cell_type": "code",
   "metadata": {
    "id": "lJa6RHyKIc18"
   },
   "source": [
    "n = 2000"
   ],
   "execution_count": 49,
   "outputs": []
  },
  {
   "cell_type": "markdown",
   "metadata": {
    "id": "RlRD_h2K8ep6"
   },
   "source": [
    "## Meet hoeveel geheugen wordt gebruikt"
   ]
  },
  {
   "cell_type": "markdown",
   "metadata": {
    "id": "Ws-WGiKV8qaz"
   },
   "source": [
    "Hoe kunnen we zien hoeveel geheugen een datastructuur inneemt?\n",
    "\n",
    "Definieer een lijst in Python met `n` elementen met een random waarde.\n",
    "\n",
    "Hint: `import random`"
   ]
  },
  {
   "cell_type": "code",
   "metadata": {
    "id": "fq6OZosi9xuu"
   },
   "source": [
    "import random\n",
    "random.seed(5)\n",
    "myList = [random.randrange(1, 20) for i in range(n)]\n"
   ],
   "execution_count": 50,
   "outputs": []
  },
  {
   "cell_type": "markdown",
   "metadata": {
    "id": "h_Se7xe_Aqp0"
   },
   "source": [
    "\n",
    "Kijk daarna hoeveel bytes deze lijst in het geheugen inneemt.\n",
    "\n",
    "Hint: `import sys`"
   ]
  },
  {
   "cell_type": "code",
   "metadata": {
    "id": "AD5-VV1s-7ER"
   },
   "source": [
    "import sys\n",
    "print(sys.getsizeof(myList))"
   ],
   "execution_count": 51,
   "outputs": [
    {
     "name": "stdout",
     "output_type": "stream",
     "text": [
      "16552\n"
     ]
    }
   ]
  },
  {
   "cell_type": "markdown",
   "metadata": {
    "id": "5wObavLdAUSa"
   },
   "source": [
    "Kijk ook hoeveel één element van deze lijst in het geheugen inneemt."
   ]
  },
  {
   "cell_type": "code",
   "metadata": {
    "id": "wjod3XRw_Xqn"
   },
   "source": [
    "print(sys.getsizeof(myList[0]))"
   ],
   "execution_count": 52,
   "outputs": [
    {
     "name": "stdout",
     "output_type": "stream",
     "text": [
      "28\n"
     ]
    }
   ]
  },
  {
   "cell_type": "markdown",
   "metadata": {
    "id": "9CaosQyD2GPK"
   },
   "source": [
    "Experimenteer eens met de grootte van andere datatypes. \n",
    "\n",
    "Hoeveel geheugen neemt een Boolean in? Verbaast je dat?"
   ]
  },
  {
   "cell_type": "code",
   "metadata": {
    "id": "4Uy3GWaphNYv"
   },
   "source": [
    "print(sys.getsizeof(1))\n",
    "print(sys.getsizeof(0))\n",
    "\n",
    "print(sys.getsizeof(True))\n",
    "print(sys.getsizeof(False))\n",
    "\n",
    "print(sys.getsizeof([1,2,3]))\n",
    "print(sys.getsizeof({'1': 1,\n",
    "                     '2': 2,\n",
    "                     '3': 3}))"
   ],
   "execution_count": 53,
   "outputs": [
    {
     "name": "stdout",
     "output_type": "stream",
     "text": [
      "28\n",
      "24\n",
      "28\n",
      "24\n",
      "80\n",
      "232\n"
     ]
    }
   ]
  },
  {
   "cell_type": "markdown",
   "source": [
    "Wat voor mij opvalt is hoeveel ruimte een dictionary opneemt in vergelijking tot een list, ik had de impressie dat het\n",
    "hooguit 2 keer zoveel ruimte zou innemen, maar dat blijkt zelfs bijna 3 keer zoveel te zijn. Dat booleans zo klein zijn\n",
    "verbaast me niet, omdat ze natuurlijk intern gewoon 0 en 1 zijn, wat weinig ruimte inneemt."
   ],
   "metadata": {
    "collapsed": false,
    "pycharm": {
     "name": "#%% md\n"
    }
   }
  },
  {
   "cell_type": "markdown",
   "metadata": {
    "id": "forC9GEBC7CC"
   },
   "source": [
    "## Meet hoe lang een berekening duurt"
   ]
  },
  {
   "cell_type": "markdown",
   "metadata": {
    "id": "ynDy0tphDAv4"
   },
   "source": [
    "Hoe lang duurt het om bijvoorbeeld alle getallen in onze lijst op te tellen?\n"
   ]
  },
  {
   "cell_type": "markdown",
   "metadata": {
    "id": "JWE3vFZpDNpT"
   },
   "source": [
    "Meet de starttijd, voer de sommatie uit, meet de eindtijd. Bepaal het verschil tusen eindtijd en begintijd. \n",
    "\n",
    "In welke eenheid wordt de tijd gemeten?\n",
    "\n",
    "\n",
    "Hint: `import time`"
   ]
  },
  {
   "cell_type": "code",
   "metadata": {
    "id": "jedyLrvED20O"
   },
   "source": [
    "import time\n",
    "\n",
    "start = time.perf_counter() # Returned de tijd in fractionele seconden\n",
    "sum(myList)\n",
    "end = time.perf_counter()  - start\n",
    "print(end)"
   ],
   "execution_count": 54,
   "outputs": [
    {
     "name": "stdout",
     "output_type": "stream",
     "text": [
      "6.009999998468629e-05\n"
     ]
    }
   ]
  },
  {
   "cell_type": "markdown",
   "metadata": {
    "id": "ZakyZzozJpC8"
   },
   "source": [
    "## Python list"
   ]
  },
  {
   "cell_type": "markdown",
   "metadata": {
    "id": "V3hOvXpt2tGW"
   },
   "source": [
    "Maak twee Python lists van lengte n. Vermenigvuldig die twee lists elementsgewijs. Tel vervolgens alle getallen bij elkaar op.\n",
    "\n",
    "Bepaal hoeveel bytes de Python list in neemt.\n",
    "\n",
    "Meet ook hoe lang deze berekeningen duren. Let op je parameter n is nu nog klein."
   ]
  },
  {
   "cell_type": "code",
   "metadata": {
    "id": "klxdgEJrKscp"
   },
   "source": [
    "a=  [random.randrange(255) for i in range(n*n)]\n",
    "start = time.perf_counter()\n",
    "\n",
    "c = [x * y for x,y in zip(a,a)]\n",
    "sum_c = sum(c)\n",
    "end = time.perf_counter()  - start\n",
    "print(sys.getsizeof(c))\n",
    "print(end)"
   ],
   "execution_count": 55,
   "outputs": [
    {
     "name": "stdout",
     "output_type": "stream",
     "text": [
      "35746768\n",
      "0.4654395000000022\n"
     ]
    }
   ]
  },
  {
   "cell_type": "markdown",
   "metadata": {
    "id": "hy31aEn3Jsw0"
   },
   "source": [
    "## NumPy array"
   ]
  },
  {
   "cell_type": "markdown",
   "metadata": {
    "id": "KFj6xMSn3Ozs"
   },
   "source": [
    "Maak twee NumPy arrays van lengte n. Vermenigvuldig de twee arrays elementsgewijs. Tel vervolgens alle getallen bij elkaar op.\n",
    "\n",
    "Bepaal hoeveel bytes de NumPy array in neemt.\n",
    "\n",
    "Meet hoe lang deze berekeningen duren. Let op je parameter n is nu nog klein."
   ]
  },
  {
   "cell_type": "code",
   "metadata": {
    "id": "EGNyDT93KTRj"
   },
   "source": [
    "q = np.random.randint(255,size=(n,n))\n",
    "\n",
    "start = time.perf_counter()\n",
    "s = q * q\n",
    "sum_s = s.sum()\n",
    "end = time.perf_counter()  - start\n",
    "\n",
    "print(sys.getsizeof(s))\n",
    "print(end)\n",
    "print(f\"Size of the python list is: {sys.getsizeof(c)} Size of the numpy array is: {sys.getsizeof(s)}\")"
   ],
   "execution_count": 56,
   "outputs": [
    {
     "name": "stdout",
     "output_type": "stream",
     "text": [
      "16000112\n",
      "0.0070324000000141496\n",
      "Size of the python list is: 35746768 Size of the numpy array is: 16000112\n"
     ]
    }
   ]
  },
  {
   "cell_type": "markdown",
   "metadata": {
    "id": "kt25l3SH1oS_"
   },
   "source": [
    "## Vergelijking Python list versus NumPy array"
   ]
  },
  {
   "cell_type": "markdown",
   "metadata": {
    "id": "uvnfhHXX3fmQ"
   },
   "source": [
    "Kijk nu voor verschillende waardes van de parameter n hoe lang de berekeningen duren.\n",
    "\n",
    "Bereken voor elke n de tijd voor de Python berekening gedeeld door de NumPy bereking.\n",
    "\n",
    "Kies als verschillende n waardes bijvoorbeeld 4, 8, 16, 32, 64, 128, 256, 1024.\n",
    "\n",
    "Een grafiek zou hier heel handig zijn!"
   ]
  },
  {
   "cell_type": "code",
   "metadata": {
    "id": "KabeiOryR5s1"
   },
   "source": [
    ""
   ],
   "execution_count": 56,
   "outputs": []
  },
  {
   "cell_type": "code",
   "metadata": {
    "id": "eS7EexvmR8av"
   },
   "source": [
    ""
   ],
   "execution_count": 56,
   "outputs": []
  }
 ]
}