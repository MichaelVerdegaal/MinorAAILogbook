{
 "cells": [
  {
   "cell_type": "markdown",
   "metadata": {
    "collapsed": true,
    "pycharm": {
     "name": "#%% md\n"
    }
   },
   "source": [
    "### Functies en conditionals"
   ]
  },
  {
   "cell_type": "code",
   "execution_count": 41,
   "outputs": [
    {
     "name": "stdout",
     "output_type": "stream",
     "text": [
      "False\n",
      "True\n",
      "True\n",
      "False\n",
      "True\n",
      "False\n"
     ]
    }
   ],
   "source": [
    "print(5==6)\n",
    "print(5!=6)\n",
    "print(5<6)\n",
    "print(5>6)\n",
    "print(5<=6)\n",
    "print(5>=6)"
   ],
   "metadata": {
    "collapsed": false,
    "pycharm": {
     "name": "#%%\n"
    }
   }
  },
  {
   "cell_type": "code",
   "execution_count": 42,
   "outputs": [
    {
     "name": "stdout",
     "output_type": "stream",
     "text": [
      "True\n",
      "True\n",
      "True\n"
     ]
    }
   ],
   "source": [
    "print('s' in 'mississippi')\n",
    "print('sip' in 'mississippi')\n",
    "print('mis' in 'mississippi')"
   ],
   "metadata": {
    "collapsed": false,
    "pycharm": {
     "name": "#%%\n"
    }
   }
  },
  {
   "cell_type": "code",
   "execution_count": 43,
   "outputs": [
    {
     "name": "stdout",
     "output_type": "stream",
     "text": [
      "12\n"
     ]
    }
   ],
   "source": [
    "def concat_strings(string1, string2):\n",
    "    \"\"\"\n",
    "    This function concatenates two strings together\n",
    "    :param string1: first string\n",
    "    :param string2: second string\n",
    "    :return: concatenated string\n",
    "    \"\"\"\n",
    "    if type(string1) == str and type(string2) == str:\n",
    "        c = string1+string2\n",
    "        print(c)\n",
    "        return c\n",
    "concat_strings(\"1\", \"2\")\n",
    "concat_strings(1, 2)"
   ],
   "metadata": {
    "collapsed": false,
    "pycharm": {
     "name": "#%%\n"
    }
   }
  },
  {
   "cell_type": "code",
   "execution_count": 44,
   "outputs": [
    {
     "name": "stdout",
     "output_type": "stream",
     "text": [
      "7\n"
     ]
    }
   ],
   "source": [
    "def concat_integers(int1, int2):\n",
    "    if int2 >= int1:\n",
    "        c = int1 + int2\n",
    "        print(c)\n",
    "        return int1 + int2\n",
    "concat_integers(3, 4)\n",
    "concat_integers(6, 4)"
   ],
   "metadata": {
    "collapsed": false,
    "pycharm": {
     "name": "#%%\n"
    }
   }
  },
  {
   "cell_type": "code",
   "execution_count": 45,
   "outputs": [
    {
     "name": "stdout",
     "output_type": "stream",
     "text": [
      "1 6\n",
      "2 6\n",
      "3 6\n",
      "4 6\n",
      "5 6\n",
      "6\n"
     ]
    }
   ],
   "source": [
    "def concat_additive(int1, int2):\n",
    "    while int1 < int2:\n",
    "        print(int1, int2)\n",
    "        int1 += 1\n",
    "    return int1\n",
    "print(concat_additive(1, 6))\n"
   ],
   "metadata": {
    "collapsed": false,
    "pycharm": {
     "name": "#%%\n"
    }
   }
  },
  {
   "cell_type": "code",
   "execution_count": 52,
   "outputs": [
    {
     "name": "stdout",
     "output_type": "stream",
     "text": [
      "6\n",
      "15.707963267948966\n"
     ]
    }
   ],
   "source": [
    "import math\n",
    "\n",
    "def add_pi(int1, int2):\n",
    "    int1 *= math.pi\n",
    "    result = max(int1, int2)\n",
    "    print(result)\n",
    "\n",
    "add_pi(1, 6)\n",
    "add_pi(5, 6)"
   ],
   "metadata": {
    "collapsed": false,
    "pycharm": {
     "name": "#%%\n"
    }
   }
  }
 ],
 "metadata": {
  "kernelspec": {
   "display_name": "Python 3",
   "language": "python",
   "name": "python3"
  },
  "language_info": {
   "codemirror_mode": {
    "name": "ipython",
    "version": 2
   },
   "file_extension": ".py",
   "mimetype": "text/x-python",
   "name": "python",
   "nbconvert_exporter": "python",
   "pygments_lexer": "ipython2",
   "version": "2.7.6"
  }
 },
 "nbformat": 4,
 "nbformat_minor": 0
}